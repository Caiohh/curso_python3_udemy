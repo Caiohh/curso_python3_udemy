{
 "cells": [
  {
   "cell_type": "code",
   "execution_count": null,
   "metadata": {},
   "outputs": [],
   "source": [
    "\"\"\"\n",
    "Faça um programa que peça ao usuário para digitar um número inteiro, informe se este número é par ou ímpar. \n",
    "Caso o usuário não digite um número inteiro, informe que não é um número inteiro.\n",
    "\"\"\""
   ]
  },
  {
   "cell_type": "code",
   "execution_count": null,
   "metadata": {},
   "outputs": [],
   "source": [
    "\"\"\"\n",
    "Faça um programa que pergunte a hor ao usuário e, baseando-se no horário descrito, exiba a saudação apropriada.\n",
    "Ex: Bom dia 0-11, Boa tarde 12-17 e Boa noite 18-23\n",
    "\"\"\""
   ]
  },
  {
   "cell_type": "code",
   "execution_count": null,
   "metadata": {},
   "outputs": [],
   "source": [
    "\"\"\"\n",
    "Faça um programa que peça o primeiro nome do usuário. Se o nome tiver 4 letras ou menos escreva \"Seu nome é curto\"; se tiver entre 5 e 6 letras, escreva \"Seu nome é normal\"; maior que 6 escreva \"Seu nome é muito grande\".\n",
    "\"\"\""
   ]
  }
 ],
 "metadata": {
  "kernelspec": {
   "display_name": "Python 3.9.12 ('venv': venv)",
   "language": "python",
   "name": "python3"
  },
  "language_info": {
   "name": "python",
   "version": "3.9.12"
  },
  "orig_nbformat": 4,
  "vscode": {
   "interpreter": {
    "hash": "5cb95223d7e4a42e5ed85d07889e4d3d43177c1e789c89ac3c90364463f79de8"
   }
  }
 },
 "nbformat": 4,
 "nbformat_minor": 2
}
