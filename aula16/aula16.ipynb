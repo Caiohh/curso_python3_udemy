{
 "cells": [
  {
   "cell_type": "code",
   "execution_count": 23,
   "metadata": {},
   "outputs": [
    {
     "name": "stdout",
     "output_type": "stream",
     "text": [
      "2 é Par\n"
     ]
    }
   ],
   "source": [
    "\"\"\"\n",
    "Faça um programa que peça ao usuário para digitar um número inteiro, informe se este número é par ou ímpar. \n",
    "Caso o usuário não digite um número inteiro, informe que não é um número inteiro.\n",
    "\"\"\"\n",
    "numero = input('Digite um número inteiro: ')\n",
    "\n",
    "\n",
    "if numero.isdigit():\n",
    "    numero = int(numero)\n",
    "    if numero%2:\n",
    "        print(f'{numero} é Ímpar')\n",
    "    else:\n",
    "        print(f'{numero} é Par')\n",
    "else:\n",
    "    print('Isso não é um número inteiro!')"
   ]
  },
  {
   "cell_type": "code",
   "execution_count": 9,
   "metadata": {},
   "outputs": [
    {
     "name": "stdout",
     "output_type": "stream",
     "text": [
      "Boa noite!\n"
     ]
    }
   ],
   "source": [
    "\"\"\"\n",
    "Faça um programa que pergunte a hora ao usuário e, baseando-se no horário descrito, exiba a saudação apropriada.\n",
    "Ex: Bom dia 0-11, Boa tarde 12-17 e Boa noite 18-23\n",
    "\"\"\"\n",
    "horario = input('Digite a hora (0-23): ')\n",
    "horario = float(horario)\n",
    "\n",
    "if horario < 12:\n",
    "    print('Bom dia!')\n",
    "elif horario < 18:\n",
    "    print('Boa tarde!')\n",
    "else:\n",
    "    print('Boa noite!')"
   ]
  },
  {
   "cell_type": "code",
   "execution_count": 15,
   "metadata": {},
   "outputs": [
    {
     "name": "stdout",
     "output_type": "stream",
     "text": [
      "Nenhum nome digitado!\n"
     ]
    }
   ],
   "source": [
    "\"\"\"\n",
    "Faça um programa que peça o primeiro nome do usuário. Se o nome tiver 4 letras ou menos escreva \"Seu nome é curto\"; se tiver entre 5 e 6 letras, escreva \"Seu nome é normal\"; maior que 6 escreva \"Seu nome é muito grande\".\n",
    "\"\"\"\n",
    "nome = input('Digite seu nome: ')\n",
    "qtd_caracteres = len(nome)\n",
    "\n",
    "if qtd_caracteres == 0:\n",
    "    print('Nenhum nome digitado!')\n",
    "elif qtd_caracteres <= 4:\n",
    "    print('Seu nome é muito curto. ')\n",
    "elif 5 >= qtd_caracteres <= 6:\n",
    "    print('Seu nome é normal. ')\n",
    "else:\n",
    "    print('Seu nome é muito grande. ')"
   ]
  }
 ],
 "metadata": {
  "kernelspec": {
   "display_name": "Python 3.9.12 ('venv': venv)",
   "language": "python",
   "name": "python3"
  },
  "language_info": {
   "codemirror_mode": {
    "name": "ipython",
    "version": 3
   },
   "file_extension": ".py",
   "mimetype": "text/x-python",
   "name": "python",
   "nbconvert_exporter": "python",
   "pygments_lexer": "ipython3",
   "version": "3.9.12"
  },
  "orig_nbformat": 4,
  "vscode": {
   "interpreter": {
    "hash": "5cb95223d7e4a42e5ed85d07889e4d3d43177c1e789c89ac3c90364463f79de8"
   }
  }
 },
 "nbformat": 4,
 "nbformat_minor": 2
}
