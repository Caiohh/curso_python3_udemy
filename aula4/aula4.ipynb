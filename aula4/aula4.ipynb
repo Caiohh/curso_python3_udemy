{
 "cells": [
  {
   "cell_type": "code",
   "execution_count": 6,
   "metadata": {},
   "outputs": [
    {
     "name": "stdout",
     "output_type": "stream",
     "text": [
      "Caio <class 'str'>\n",
      "10 <class 'int'>\n",
      "25.23 <class 'float'>\n",
      "True <class 'bool'>\n",
      "False <class 'bool'>\n"
     ]
    }
   ],
   "source": [
    "\"\"\"\n",
    "Tipos de dados:\n",
    "str - string - textos 'Assim' \"Assim\"\n",
    "int - inteiro - 123456 0 -10 -20 -50 -60 -15000 1500\n",
    "float - real/flutuante - 10.50 1.5 -10.10 -50.93\n",
    "bool - booleano/lógico - True/False 10 == 10\n",
    "\"\"\"\n",
    "\n",
    "print('Caio', type('Caio'))\n",
    "print(10, type(10))\n",
    "print(25.23, type(25.23))\n",
    "print(10 == 10, type(10 == 10))"
   ]
  },
  {
   "cell_type": "code",
   "execution_count": 13,
   "metadata": {},
   "outputs": [
    {
     "name": "stdout",
     "output_type": "stream",
     "text": [
      "10 <class 'str'> <class 'int'>\n"
     ]
    }
   ],
   "source": [
    "# Conversão de str para int\n",
    "print('10', type('10'), type(int('10')))"
   ]
  },
  {
   "cell_type": "code",
   "execution_count": 16,
   "metadata": {},
   "outputs": [
    {
     "name": "stdout",
     "output_type": "stream",
     "text": [
      "Caio <class 'str'>\n",
      "20 <class 'int'>\n",
      "1.74 <class 'float'>\n",
      "True <class 'bool'>\n"
     ]
    }
   ],
   "source": [
    "\"\"\"\n",
    "- Exercício proposto\n",
    "Criar cadastro e exibir na tela:\n",
    "Nome (str), Idade(int), Altura(float), Pergunta: se é maior de idade(bool)\n",
    "\"\"\"\n",
    "print('Caio', type('Caio'))\n",
    "print(20, type(20))\n",
    "print(1.74, type(1.74))\n",
    "print(20 > 17, type(20 > 17))"
   ]
  }
 ],
 "metadata": {
  "kernelspec": {
   "display_name": "Python 3.9.12 ('venv': venv)",
   "language": "python",
   "name": "python3"
  },
  "language_info": {
   "codemirror_mode": {
    "name": "ipython",
    "version": 3
   },
   "file_extension": ".py",
   "mimetype": "text/x-python",
   "name": "python",
   "nbconvert_exporter": "python",
   "pygments_lexer": "ipython3",
   "version": "3.9.12"
  },
  "orig_nbformat": 4,
  "vscode": {
   "interpreter": {
    "hash": "5cb95223d7e4a42e5ed85d07889e4d3d43177c1e789c89ac3c90364463f79de8"
   }
  }
 },
 "nbformat": 4,
 "nbformat_minor": 2
}
