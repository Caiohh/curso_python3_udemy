{
 "cells": [
  {
   "cell_type": "code",
   "execution_count": 4,
   "metadata": {},
   "outputs": [
    {
     "name": "stdout",
     "output_type": "stream",
     "text": [
      "Multiplicação * 100\n",
      "Adição + 20\n",
      "Subtração - 5\n",
      "Divisão / 5.0\n"
     ]
    }
   ],
   "source": [
    "\"\"\"\n",
    "Operadores:\n",
    "+, -, *, /, //, **, %, ()\n",
    "\n",
    "    1. ( n + n ) - Os parênteses têm a maior precedência, contas dentro deles são realizadas primeiro\n",
    "\n",
    "    2. ** - Depois vem a exponenciação\n",
    "\n",
    "    3. * / //  % - Na sequência multiplicação, divisão, divisão inteira e módulo\n",
    "\n",
    "    4. +  - - Por fim, soma e subtração\n",
    "\"\"\"\n",
    "print('Multiplicação *', 10 * 10)\n",
    "print('Adição +', 10 + 10)\n",
    "print('Subtração -', 10 - 5)\n",
    "print('Divisão /', 10 / 2)"
   ]
  },
  {
   "cell_type": "code",
   "execution_count": 5,
   "metadata": {},
   "outputs": [
    {
     "name": "stdout",
     "output_type": "stream",
     "text": [
      "AAAAAAAAAAAAAAAAAAAA\n",
      "40\n",
      "20A\n",
      "22\n"
     ]
    }
   ],
   "source": [
    "print(20 * 'A')\n",
    "print(20 * 2)\n",
    "print('20' + 'A')\n",
    "print(20 + 2)"
   ]
  }
 ],
 "metadata": {
  "kernelspec": {
   "display_name": "Python 3.9.5 64-bit",
   "language": "python",
   "name": "python3"
  },
  "language_info": {
   "name": "python",
   "version": "3.9.5"
  },
  "orig_nbformat": 4,
  "vscode": {
   "interpreter": {
    "hash": "36cf16204b8548560b1c020c4e8fb5b57f0e4c58016f52f2d4be01e192833930"
   }
  }
 },
 "nbformat": 4,
 "nbformat_minor": 2
}
