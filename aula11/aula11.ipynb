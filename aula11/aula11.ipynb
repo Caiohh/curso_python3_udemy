{
 "cells": [
  {
   "cell_type": "code",
   "execution_count": 3,
   "metadata": {},
   "outputs": [
    {
     "name": "stdout",
     "output_type": "stream",
     "text": [
      "False\n",
      "True\n"
     ]
    }
   ],
   "source": [
    "\"\"\"\n",
    "Operadores Relacionais: == > >= < <= !=\n",
    "\n",
    "== - igualdade\n",
    "> - maior que...\n",
    ">= - maior que ou igual a...\n",
    "< - menor que...\n",
    "<= - menor que ou igual a...\n",
    "!= - diferente\n",
    "\"\"\"\n",
    "num_1 = 3\n",
    "num_2 = 2\n",
    "\n",
    "expressao = (num_1 == num_2)\n",
    "print(expressao)\n",
    "\n",
    "expressao = (num_1 > num_2)\n",
    "print(expressao)"
   ]
  },
  {
   "cell_type": "code",
   "execution_count": 5,
   "metadata": {},
   "outputs": [
    {
     "name": "stdout",
     "output_type": "stream",
     "text": [
      "True\n"
     ]
    }
   ],
   "source": [
    "var_1 = 'Caio'\n",
    "var_2 = 'Lemes'\n",
    "\n",
    "expressao = (var_1 != var_2)\n",
    "print(expressao)"
   ]
  },
  {
   "cell_type": "code",
   "execution_count": 1,
   "metadata": {},
   "outputs": [
    {
     "name": "stdout",
     "output_type": "stream",
     "text": [
      "Caio pode pegar o empréstimo.\n"
     ]
    }
   ],
   "source": [
    "nome = input('Qual o seu nome? ')\n",
    "idade = int(input('Qual a sua idade? '))\n",
    "\n",
    "#  Limite para pegar empréstimo\n",
    "idade_limite = 18\n",
    "\n",
    "if idade >= idade_limite:\n",
    "    print(f'{nome} pode pegar o empréstimo.')\n",
    "else:\n",
    "    print(f'{nome} NÃO PODE PEGAR O EMPRÉSTIMO!')"
   ]
  },
  {
   "cell_type": "code",
   "execution_count": 4,
   "metadata": {},
   "outputs": [
    {
     "name": "stdout",
     "output_type": "stream",
     "text": [
      "caio31 NÃO PODE PEGAR O EMPRÉSTIMO!\n"
     ]
    }
   ],
   "source": [
    "nome = input('Qual o seu nome? ')\n",
    "idade = int(input('Qual a sua idade? '))\n",
    "\n",
    "#  Limite para pegar empréstimo\n",
    "idade_menor = 20 #  muito jovem\n",
    "idade_maior = 30 #  passou da idade\n",
    "\n",
    "if idade >= idade_menor and idade <= idade_maior:\n",
    "    print(f'{nome} pode pegar o empréstimo.')\n",
    "else:\n",
    "    print(f'{nome} NÃO PODE PEGAR O EMPRÉSTIMO!')"
   ]
  }
 ],
 "metadata": {
  "kernelspec": {
   "display_name": "Python 3.9.5 64-bit",
   "language": "python",
   "name": "python3"
  },
  "language_info": {
   "codemirror_mode": {
    "name": "ipython",
    "version": 3
   },
   "file_extension": ".py",
   "mimetype": "text/x-python",
   "name": "python",
   "nbconvert_exporter": "python",
   "pygments_lexer": "ipython3",
   "version": "3.9.5"
  },
  "orig_nbformat": 4,
  "vscode": {
   "interpreter": {
    "hash": "36cf16204b8548560b1c020c4e8fb5b57f0e4c58016f52f2d4be01e192833930"
   }
  }
 },
 "nbformat": 4,
 "nbformat_minor": 2
}
