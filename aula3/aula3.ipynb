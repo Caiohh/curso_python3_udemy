{
 "cells": [
  {
   "cell_type": "code",
   "execution_count": 7,
   "metadata": {},
   "outputs": [
    {
     "name": "stdout",
     "output_type": "stream",
     "text": [
      "Essa é uma 'string'(str).\n",
      "Essa é uma \"string\"(str).\n",
      "Essa é meu \"texto\"(str).\n",
      "Essa é meu 'texto'(str).\n",
      "Essa é meu \n",
      " (str).\n",
      "Essa é meu \\n (str).\n"
     ]
    }
   ],
   "source": [
    "\"\"\"\n",
    "str - string\n",
    "\"\"\"\n",
    "print(\"Essa é uma 'string'(str).\")\n",
    "print('Essa é uma \"string\"(str).')\n",
    "print(\"Essa é meu \\\"texto\\\"(str).\")\n",
    "print('Essa é meu \\'texto\\'(str).')\n",
    "print('Essa é meu \\n (str).')\n",
    "print(r'Essa é meu \\n (str).')  # Não deixa ser executado nada dentro do texto"
   ]
  }
 ],
 "metadata": {
  "kernelspec": {
   "display_name": "Python 3.9.5 64-bit",
   "language": "python",
   "name": "python3"
  },
  "language_info": {
   "codemirror_mode": {
    "name": "ipython",
    "version": 3
   },
   "file_extension": ".py",
   "mimetype": "text/x-python",
   "name": "python",
   "nbconvert_exporter": "python",
   "pygments_lexer": "ipython3",
   "version": "3.9.5"
  },
  "orig_nbformat": 4,
  "vscode": {
   "interpreter": {
    "hash": "36cf16204b8548560b1c020c4e8fb5b57f0e4c58016f52f2d4be01e192833930"
   }
  }
 },
 "nbformat": 4,
 "nbformat_minor": 2
}
