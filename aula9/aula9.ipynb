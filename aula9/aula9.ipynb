{
 "cells": [
  {
   "cell_type": "code",
   "execution_count": 6,
   "metadata": {},
   "outputs": [
    {
     "name": "stdout",
     "output_type": "stream",
     "text": [
      "O usuário digitou Caio e o tipo da variável é <class 'str'>\n"
     ]
    }
   ],
   "source": [
    "\"\"\"\n",
    "Entrada de dados\n",
    "\"\"\"\n",
    "#  Sempre que digitar algo dentro da variável ela será str\n",
    "nome = input(\"Qual o seu nome? \") \n",
    "print(f'O usuário digitou {nome} e o tipo da variável é {type(nome)}')"
   ]
  },
  {
   "cell_type": "code",
   "execution_count": 14,
   "metadata": {},
   "outputs": [
    {
     "name": "stdout",
     "output_type": "stream",
     "text": [
      "Caio tem 20 anos. Caio nasceu em 2002\n"
     ]
    }
   ],
   "source": [
    "nome = input(\"Qual o seu nome? \")\n",
    "idade = input(\"Qual a sua idade? \")\n",
    "ano_nascimento = 2022 - int(idade)\n",
    "print(f'{nome} tem {idade} anos. {nome} nasceu em {ano_nascimento}.')"
   ]
  },
  {
   "cell_type": "code",
   "execution_count": 2,
   "metadata": {},
   "outputs": [
    {
     "name": "stdout",
     "output_type": "stream",
     "text": [
      "4\n"
     ]
    }
   ],
   "source": [
    "numero_1 = int(input('Digite um número: '))\n",
    "numero_2 = int(input('Digite outro número: '))\n",
    "print(numero_1 + numero_2)"
   ]
  },
  {
   "cell_type": "code",
   "execution_count": null,
   "metadata": {},
   "outputs": [],
   "source": [
    "numero_1 = int(input('Digite um número: '))\n",
    "numero_2 = int(input('Digite outro número: '))\n",
    "print(numero_1 ** numero_2)"
   ]
  }
 ],
 "metadata": {
  "kernelspec": {
   "display_name": "Python 3.9.12 ('venv': venv)",
   "language": "python",
   "name": "python3"
  },
  "language_info": {
   "codemirror_mode": {
    "name": "ipython",
    "version": 3
   },
   "file_extension": ".py",
   "mimetype": "text/x-python",
   "name": "python",
   "nbconvert_exporter": "python",
   "pygments_lexer": "ipython3",
   "version": "3.9.12"
  },
  "orig_nbformat": 4,
  "vscode": {
   "interpreter": {
    "hash": "5cb95223d7e4a42e5ed85d07889e4d3d43177c1e789c89ac3c90364463f79de8"
   }
  }
 },
 "nbformat": 4,
 "nbformat_minor": 2
}
