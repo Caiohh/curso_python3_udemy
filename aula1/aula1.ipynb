{
 "cells": [
  {
   "cell_type": "code",
   "execution_count": 4,
   "metadata": {},
   "outputs": [
    {
     "name": "stdout",
     "output_type": "stream",
     "text": [
      "Linha 3\n",
      "Linha 4\n",
      "Linha 5\n",
      "Linha 8\n"
     ]
    }
   ],
   "source": [
    "\"\"\"\n",
    "Comentário\n",
    "print('Linha 1')  \n",
    "print('Linha 2')  \n",
    "\"\"\"\n",
    "# Uma linha\n",
    "# Outra linha\n",
    "print('Linha 3')\n",
    "print('Linha 4')  #Isso é um comentário\n",
    "print('Linha 5')\n",
    "'''\n",
    "print('Linha 6')\n",
    "print('Linha 7')\n",
    "'''\n",
    "print('Linha 8')\n",
    "# Final"
   ]
  }
 ],
 "metadata": {
  "kernelspec": {
   "display_name": "Python 3.8.10 64-bit",
   "language": "python",
   "name": "python3"
  },
  "language_info": {
   "codemirror_mode": {
    "name": "ipython",
    "version": 3
   },
   "file_extension": ".py",
   "mimetype": "text/x-python",
   "name": "python",
   "nbconvert_exporter": "python",
   "pygments_lexer": "ipython3",
   "version": "3.8.10"
  },
  "orig_nbformat": 4,
  "vscode": {
   "interpreter": {
    "hash": "916dbcbb3f70747c44a77c7bcd40155683ae19c65e1c03b4aa3499c5328201f1"
   }
  }
 },
 "nbformat": 4,
 "nbformat_minor": 2
}
