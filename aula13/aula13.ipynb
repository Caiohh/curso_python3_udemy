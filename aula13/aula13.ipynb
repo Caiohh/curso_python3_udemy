{
 "cells": [
  {
   "cell_type": "code",
   "execution_count": 8,
   "metadata": {},
   "outputs": [
    {
     "name": "stdout",
     "output_type": "stream",
     "text": [
      "caiooo 6 <class 'int'>\n",
      "Você foi cadastrado no sistema.\n"
     ]
    }
   ],
   "source": [
    "\"\"\"\n",
    "Contar quantidade de caracteres em um str\n",
    "\"\"\"\n",
    "usuario = input('Digite seu usuário: ')\n",
    "qtd_caracteres = len(usuario)\n",
    "\n",
    "print(usuario, qtd_caracteres, type(qtd_caracteres))\n",
    "\n",
    "if qtd_caracteres < 6:\n",
    "    print('Você precisa digitar pelo menos 6 caracteres.')\n",
    "else:\n",
    "    print('Você foi cadastrado no sistema.')"
   ]
  },
  {
   "cell_type": "code",
   "execution_count": 11,
   "metadata": {},
   "outputs": [
    {
     "name": "stdout",
     "output_type": "stream",
     "text": [
      "A quantidade de caracteres digitados foi 5\n"
     ]
    }
   ],
   "source": [
    "string1 = input('Digite alguma coisa: ')\n",
    "string2 = input('Digite outra coisa: ')\n",
    "\n",
    "print(f'A quantidade de caracteres digitados foi {len(string1) + len(string2)}')"
   ]
  },
  {
   "cell_type": "code",
   "execution_count": 12,
   "metadata": {},
   "outputs": [
    {
     "name": "stdout",
     "output_type": "stream",
     "text": [
      "4\n",
      "4\n"
     ]
    },
    {
     "ename": "TypeError",
     "evalue": "object of type 'bool' has no len()",
     "output_type": "error",
     "traceback": [
      "\u001b[0;31m---------------------------------------------------------------------------\u001b[0m",
      "\u001b[0;31mTypeError\u001b[0m                                 Traceback (most recent call last)",
      "\u001b[1;32m/home/caiolemes/Documentos/Projetos/curso_python3_udemy/aula13/aula13.ipynb Cell 3\u001b[0m in \u001b[0;36m<cell line: 8>\u001b[0;34m()\u001b[0m\n\u001b[1;32m      <a href='vscode-notebook-cell:/home/caiolemes/Documentos/Projetos/curso_python3_udemy/aula13/aula13.ipynb#W3sZmlsZQ%3D%3D?line=4'>5</a>\u001b[0m \u001b[39mprint\u001b[39m(string2\u001b[39m.\u001b[39m\u001b[39m__len__\u001b[39m())\n\u001b[1;32m      <a href='vscode-notebook-cell:/home/caiolemes/Documentos/Projetos/curso_python3_udemy/aula13/aula13.ipynb#W3sZmlsZQ%3D%3D?line=6'>7</a>\u001b[0m \u001b[39m# print(len(123456))\u001b[39;00m\n\u001b[0;32m----> <a href='vscode-notebook-cell:/home/caiolemes/Documentos/Projetos/curso_python3_udemy/aula13/aula13.ipynb#W3sZmlsZQ%3D%3D?line=7'>8</a>\u001b[0m \u001b[39mprint\u001b[39m(\u001b[39mlen\u001b[39;49m(\u001b[39mTrue\u001b[39;49;00m))\n",
      "\u001b[0;31mTypeError\u001b[0m: object of type 'bool' has no len()"
     ]
    }
   ],
   "source": [
    "string1 = input('Digite alguma coisa: ')\n",
    "string2 = input('Digite outra coisa: ')\n",
    "\n",
    "print(len(string2))\n",
    "print(string2.__len__())\n",
    "\n",
    "# print(len(123456))\n",
    "print(len(True))"
   ]
  }
 ],
 "metadata": {
  "kernelspec": {
   "display_name": "Python 3.9.12 ('venv': venv)",
   "language": "python",
   "name": "python3"
  },
  "language_info": {
   "codemirror_mode": {
    "name": "ipython",
    "version": 3
   },
   "file_extension": ".py",
   "mimetype": "text/x-python",
   "name": "python",
   "nbconvert_exporter": "python",
   "pygments_lexer": "ipython3",
   "version": "3.9.12"
  },
  "orig_nbformat": 4,
  "vscode": {
   "interpreter": {
    "hash": "5cb95223d7e4a42e5ed85d07889e4d3d43177c1e789c89ac3c90364463f79de8"
   }
  }
 },
 "nbformat": 4,
 "nbformat_minor": 2
}
