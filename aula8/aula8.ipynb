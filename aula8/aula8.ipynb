{
 "cells": [
  {
   "cell_type": "code",
   "execution_count": 7,
   "metadata": {},
   "outputs": [
    {
     "name": "stdout",
     "output_type": "stream",
     "text": [
      "Caio Lemes tem 20 anos, 1.74 de altura e pesa 75.2kg.\n",
      "O IMC de Caio Lemes é 24.84.\n",
      "Caio Lemes nasceu em 2002.\n"
     ]
    }
   ],
   "source": [
    "\"\"\"\n",
    "* Criar variáveis para nome (str), idade (int),\n",
    "* altura (float) e peso (float) de uma pessoa\n",
    "* Criar variável com o ano atual (int)\n",
    "* Obter o ano de nascimento da pessoa (baseado na idade e no ano atual)\n",
    "* Obter o IMC da pessoa com 2 casas decimais (peso e na altura da pessoa)\n",
    "* Exibir um texto com todos os valores na tela usando F-Strings (com as chaves)\n",
    "\"\"\"\n",
    "nome = 'Caio Lemes'\n",
    "idade = 20\n",
    "altura = 1.74\n",
    "calc_nascimento = 2022 - idade\n",
    "peso = 75.2\n",
    "imc = peso/(altura**2)\n",
    "print(f'{nome} tem {idade} anos, {altura} de altura e pesa {peso}kg.')\n",
    "print(f'O IMC de {nome} é {imc:.2f}.')\n",
    "print(f'{nome} nasceu em {calc_nascimento}.')"
   ]
  }
 ],
 "metadata": {
  "kernelspec": {
   "display_name": "Python 3.9.5 64-bit",
   "language": "python",
   "name": "python3"
  },
  "language_info": {
   "codemirror_mode": {
    "name": "ipython",
    "version": 3
   },
   "file_extension": ".py",
   "mimetype": "text/x-python",
   "name": "python",
   "nbconvert_exporter": "python",
   "pygments_lexer": "ipython3",
   "version": "3.9.5"
  },
  "orig_nbformat": 4,
  "vscode": {
   "interpreter": {
    "hash": "36cf16204b8548560b1c020c4e8fb5b57f0e4c58016f52f2d4be01e192833930"
   }
  }
 },
 "nbformat": 4,
 "nbformat_minor": 2
}
