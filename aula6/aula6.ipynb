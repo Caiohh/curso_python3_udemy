{
 "cells": [
  {
   "cell_type": "code",
   "execution_count": 6,
   "metadata": {},
   "outputs": [
    {
     "name": "stdout",
     "output_type": "stream",
     "text": [
      "Nome: Caio Lemes Idade: 20\n",
      "Altura: 1.74\n",
      "É maior: True\n"
     ]
    }
   ],
   "source": [
    "\"\"\"\n",
    "Iniciar com letra, pode conter números, separar _, letras minúsculas\n",
    "\"\"\"\n",
    "# nome = 'Caio'\n",
    "# print(nome, type(nome))\n",
    "nome = 'Caio Lemes'\n",
    "idade = 20\n",
    "altura = 1.74\n",
    "e_maior = idade > 18\n",
    "data_1 = True\n",
    "data_atual = 2022\n",
    "\n",
    "print('Nome:', nome)\n",
    "print('Idade:', idade)\n",
    "print('Altura:', altura)\n",
    "print('É maior:', e_maior)"
   ]
  },
  {
   "cell_type": "code",
   "execution_count": 8,
   "metadata": {},
   "outputs": [
    {
     "name": "stdout",
     "output_type": "stream",
     "text": [
      "Caio Lemes tem 20 de idade e seu IMC é 24.772096710265558\n"
     ]
    }
   ],
   "source": [
    "nome = 'Caio Lemes'\n",
    "idade = 20\n",
    "altura = 1.74\n",
    "e_maior = idade > 18\n",
    "peso = 75\n",
    "imc = peso/(altura**2)\n",
    "\n",
    "print(nome, 'tem', idade, 'de idade e seu IMC é', imc)"
   ]
  }
 ],
 "metadata": {
  "kernelspec": {
   "display_name": "Python 3.9.12 ('venv': venv)",
   "language": "python",
   "name": "python3"
  },
  "language_info": {
   "codemirror_mode": {
    "name": "ipython",
    "version": 3
   },
   "file_extension": ".py",
   "mimetype": "text/x-python",
   "name": "python",
   "nbconvert_exporter": "python",
   "pygments_lexer": "ipython3",
   "version": "3.9.12"
  },
  "orig_nbformat": 4,
  "vscode": {
   "interpreter": {
    "hash": "5cb95223d7e4a42e5ed85d07889e4d3d43177c1e789c89ac3c90364463f79de8"
   }
  }
 },
 "nbformat": 4,
 "nbformat_minor": 2
}
