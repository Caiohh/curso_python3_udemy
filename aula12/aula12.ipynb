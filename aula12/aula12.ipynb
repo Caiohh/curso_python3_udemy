{
 "cells": [
  {
   "cell_type": "code",
   "execution_count": null,
   "metadata": {},
   "outputs": [],
   "source": [
    "\"\"\"\n",
    "Operdaores Lógicos: and, or, not, in e not in\n",
    "and - comparações\n",
    "or - verificação de comparação\n",
    "not - inversor/inversão\n",
    "in - retorna valor booleano confirmando a existência \n",
    "not in - retorna valor booleano confirmando a existência inversa da expressão\n",
    "\"\"\"\n",
    "comparacao1 = ''\n",
    "comparacao2 = ''\n",
    "\n",
    "# (Verdadeiro E Verdadeiro) = Verdadeiro - As duas precisam ser verdadeiras para retornar verdadeiro\n",
    "comparacao1 and comparacao2\n",
    "\n",
    "# Verdadeiro OU Verdadeiro - Qualquer um dos dois que for verdadeiro retornará um valor verdadeiro para a expressão completa\n",
    "comp1 OR comp2"
   ]
  },
  {
   "cell_type": "code",
   "execution_count": 2,
   "metadata": {},
   "outputs": [
    {
     "name": "stdout",
     "output_type": "stream",
     "text": [
      "A é maior do que B.\n"
     ]
    }
   ],
   "source": [
    "a = 2\n",
    "b = 3\n",
    "if not b > a:\n",
    "    print('B é maior do que A.')\n",
    "else:\n",
    "    print('A é maior do que B.')"
   ]
  },
  {
   "cell_type": "code",
   "execution_count": 7,
   "metadata": {},
   "outputs": [
    {
     "name": "stdout",
     "output_type": "stream",
     "text": [
      "Existe a letra L no seu nome.\n"
     ]
    }
   ],
   "source": [
    "nome = 'Caio Lemes'\n",
    "if 'L' in nome:\n",
    "    print('Existe a letra L no seu nome.')\n",
    "else:\n",
    "    print('Não existe a letra L no seu nome.')"
   ]
  },
  {
   "cell_type": "code",
   "execution_count": 11,
   "metadata": {},
   "outputs": [
    {
     "name": "stdout",
     "output_type": "stream",
     "text": [
      "Existe o texto.\n"
     ]
    }
   ],
   "source": [
    "nome = 'Caio Lemes'\n",
    "if 'L' not in nome:\n",
    "    print('Executei.')\n",
    "else:\n",
    "    print('Existe o texto.')"
   ]
  },
  {
   "cell_type": "code",
   "execution_count": 14,
   "metadata": {},
   "outputs": [
    {
     "name": "stdout",
     "output_type": "stream",
     "text": [
      "Usuário ou senha incorretos\n"
     ]
    }
   ],
   "source": [
    "usuario = input('Nome de usuário: ')\n",
    "senha = input('Senha do usuário: ')\n",
    "usuario_bd = 'caiolemes'\n",
    "senha_bd = '123456'\n",
    "if usuario_bd == usuario and senha_bd == senha:\n",
    "    print('Você está logado no sistema')\n",
    "else:\n",
    "    print('Usuário ou senha incorretos')"
   ]
  }
 ],
 "metadata": {
  "kernelspec": {
   "display_name": "Python 3.9.12 ('venv': venv)",
   "language": "python",
   "name": "python3"
  },
  "language_info": {
   "codemirror_mode": {
    "name": "ipython",
    "version": 3
   },
   "file_extension": ".py",
   "mimetype": "text/x-python",
   "name": "python",
   "nbconvert_exporter": "python",
   "pygments_lexer": "ipython3",
   "version": "3.9.12"
  },
  "orig_nbformat": 4,
  "vscode": {
   "interpreter": {
    "hash": "5cb95223d7e4a42e5ed85d07889e4d3d43177c1e789c89ac3c90364463f79de8"
   }
  }
 },
 "nbformat": 4,
 "nbformat_minor": 2
}
