{
 "cells": [
  {
   "cell_type": "code",
   "execution_count": 12,
   "metadata": {},
   "outputs": [
    {
     "name": "stdout",
     "output_type": "stream",
     "text": [
      "Agora é verdadeiro.\n",
      "Seu nome é caio\n"
     ]
    }
   ],
   "source": [
    "\"\"\"\n",
    "Condições IF, ELIF e ELSE - Comparação\n",
    "\"\"\"\n",
    "if False:\n",
    "    print('Verdadeiro.')\n",
    "    print('teste teste2')\n",
    "elif True:\n",
    "    print('Agora é verdadeiro.')\n",
    "    nome = input('Qual o seu nome? ')\n",
    "    print(f'Seu nome é {nome}')\n",
    "elif False:\n",
    "    print('Mais uma verdadeira.')\n",
    "    print(22 + 22)\n",
    "else:\n",
    "    print('Não é verdadeiro.')\n",
    "    print('Olá')"
   ]
  }
 ],
 "metadata": {
  "kernelspec": {
   "display_name": "Python 3.9.5 64-bit",
   "language": "python",
   "name": "python3"
  },
  "language_info": {
   "codemirror_mode": {
    "name": "ipython",
    "version": 3
   },
   "file_extension": ".py",
   "mimetype": "text/x-python",
   "name": "python",
   "nbconvert_exporter": "python",
   "pygments_lexer": "ipython3",
   "version": "3.9.5"
  },
  "orig_nbformat": 4,
  "vscode": {
   "interpreter": {
    "hash": "36cf16204b8548560b1c020c4e8fb5b57f0e4c58016f52f2d4be01e192833930"
   }
  }
 },
 "nbformat": 4,
 "nbformat_minor": 2
}
