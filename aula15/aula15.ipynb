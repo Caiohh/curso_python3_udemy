{
 "cells": [
  {
   "cell_type": "code",
   "execution_count": 3,
   "metadata": {},
   "outputs": [],
   "source": [
    "\"\"\"\n",
    "Pass e Ellipsis como placeholders\n",
    "\"\"\"\n",
    "valor = True\n",
    "\n",
    "if valor:\n",
    "    pass #  ...\n",
    "else:\n",
    "    print('Tchau')"
   ]
  }
 ],
 "metadata": {
  "kernelspec": {
   "display_name": "Python 3.9.12 ('venv': venv)",
   "language": "python",
   "name": "python3"
  },
  "language_info": {
   "codemirror_mode": {
    "name": "ipython",
    "version": 3
   },
   "file_extension": ".py",
   "mimetype": "text/x-python",
   "name": "python",
   "nbconvert_exporter": "python",
   "pygments_lexer": "ipython3",
   "version": "3.9.12"
  },
  "orig_nbformat": 4,
  "vscode": {
   "interpreter": {
    "hash": "5cb95223d7e4a42e5ed85d07889e4d3d43177c1e789c89ac3c90364463f79de8"
   }
  }
 },
 "nbformat": 4,
 "nbformat_minor": 2
}
