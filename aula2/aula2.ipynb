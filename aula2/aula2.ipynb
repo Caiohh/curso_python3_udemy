{
 "cells": [
  {
   "cell_type": "code",
   "execution_count": 1,
   "metadata": {},
   "outputs": [
    {
     "name": "stdout",
     "output_type": "stream",
     "text": [
      "824.176.070-18\n"
     ]
    }
   ],
   "source": [
    "# print(123456)\n",
    "# print('Caio', 'Lemes', 'Outra coisa')\n",
    "# print('Caio', 'Lemes', sep='-', end='')\n",
    "# print('João', 'e', 'Maria', sep='-', end='')\n",
    "\n",
    "\"\"\"\n",
    "824.176.070-18\n",
    "\"\"\"\n",
    "print('824', '176', '070', sep='.', end='-')\n",
    "print('18')"
   ]
  }
 ],
 "metadata": {
  "kernelspec": {
   "display_name": "Python 3.8.10 64-bit",
   "language": "python",
   "name": "python3"
  },
  "language_info": {
   "codemirror_mode": {
    "name": "ipython",
    "version": 3
   },
   "file_extension": ".py",
   "mimetype": "text/x-python",
   "name": "python",
   "nbconvert_exporter": "python",
   "pygments_lexer": "ipython3",
   "version": "3.8.10"
  },
  "orig_nbformat": 4,
  "vscode": {
   "interpreter": {
    "hash": "916dbcbb3f70747c44a77c7bcd40155683ae19c65e1c03b4aa3499c5328201f1"
   }
  }
 },
 "nbformat": 4,
 "nbformat_minor": 2
}
