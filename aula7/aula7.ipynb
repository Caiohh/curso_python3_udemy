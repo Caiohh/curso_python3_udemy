{
 "cells": [
  {
   "cell_type": "code",
   "execution_count": 8,
   "metadata": {},
   "outputs": [
    {
     "name": "stdout",
     "output_type": "stream",
     "text": [
      "Caio Lemes tem 20 de idade e seu IMC é 24.772096710265558\n",
      "Caio Lemes tem 20 anos de idade e seu imc é 24.77\n",
      "Caio Lemes tem 20 anos seu imc é 24.77\n",
      "Caio Lemes tem 20 anos seu imc é 24.77\n"
     ]
    }
   ],
   "source": [
    "nome = 'Caio Lemes'\n",
    "idade = 20\n",
    "altura = 1.74\n",
    "e_maior = idade > 18\n",
    "peso = 75\n",
    "imc = peso/(altura**2)\n",
    "\n",
    "print(nome, 'tem', idade, 'de idade e seu IMC é', imc)\n",
    "print(f'{nome} tem {idade} anos de idade e seu imc é {imc:.2f}')\n",
    "print('{0} tem {1} anos seu imc é {2:.2f}'.format(nome, idade, imc))\n",
    "print('{n} tem {i} anos seu imc é {im:.2f}'.format(n=nome, i=idade, im=imc))"
   ]
  }
 ],
 "metadata": {
  "kernelspec": {
   "display_name": "Python 3.9.5 64-bit",
   "language": "python",
   "name": "python3"
  },
  "language_info": {
   "codemirror_mode": {
    "name": "ipython",
    "version": 3
   },
   "file_extension": ".py",
   "mimetype": "text/x-python",
   "name": "python",
   "nbconvert_exporter": "python",
   "pygments_lexer": "ipython3",
   "version": "3.9.5"
  },
  "orig_nbformat": 4,
  "vscode": {
   "interpreter": {
    "hash": "36cf16204b8548560b1c020c4e8fb5b57f0e4c58016f52f2d4be01e192833930"
   }
  }
 },
 "nbformat": 4,
 "nbformat_minor": 2
}
