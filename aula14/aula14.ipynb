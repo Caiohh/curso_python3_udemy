{
 "cells": [
  {
   "cell_type": "code",
   "execution_count": 2,
   "metadata": {},
   "outputs": [
    {
     "name": "stdout",
     "output_type": "stream",
     "text": [
      "True\n",
      "True\n"
     ]
    }
   ],
   "source": [
    "num1 = input('Digite um número: ')\n",
    "num2 = input('Digite outro número: ')\n",
    "\n",
    "# isnumeric isdigit isdecimal\n",
    "# números e positivos\n",
    "print(num2.isnumeric())\n",
    "print(num1.isnumeric())"
   ]
  },
  {
   "cell_type": "code",
   "execution_count": 3,
   "metadata": {},
   "outputs": [
    {
     "name": "stdout",
     "output_type": "stream",
     "text": [
      "4\n"
     ]
    }
   ],
   "source": [
    "from curses.ascii import isdigit\n",
    "\n",
    "\n",
    "num1 = input('Digite um número: ')\n",
    "num2 = input('Digite outro número: ')\n",
    "\n",
    "if num1.isdigit() and num2.isdigit():\n",
    "    num1 = int(num1)\n",
    "    num2 = int(num2)\n",
    "    \n",
    "    print(num1 + num2)\n",
    "else:\n",
    "    print('Não pude converter os números para realizar contas.')"
   ]
  },
  {
   "cell_type": "code",
   "execution_count": 7,
   "metadata": {},
   "outputs": [
    {
     "name": "stdout",
     "output_type": "stream",
     "text": [
      "ERROR\n"
     ]
    }
   ],
   "source": [
    "num1 = input('Digite um número: ')\n",
    "num2 = input('Digite outro número: ')\n",
    "\n",
    "try:\n",
    "    num1 = float(num1)\n",
    "    num2 = float(num2)\n",
    "    \n",
    "    print(num1 + num2)\n",
    "except:\n",
    "    print('ERROR')"
   ]
  }
 ],
 "metadata": {
  "kernelspec": {
   "display_name": "Python 3.9.12 ('venv': venv)",
   "language": "python",
   "name": "python3"
  },
  "language_info": {
   "name": "python",
   "version": "3.9.12"
  },
  "orig_nbformat": 4,
  "vscode": {
   "interpreter": {
    "hash": "5cb95223d7e4a42e5ed85d07889e4d3d43177c1e789c89ac3c90364463f79de8"
   }
  }
 },
 "nbformat": 4,
 "nbformat_minor": 2
}
